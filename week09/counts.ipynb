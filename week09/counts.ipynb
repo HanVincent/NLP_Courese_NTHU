{
 "cells": [
  {
   "cell_type": "code",
   "execution_count": 80,
   "metadata": {},
   "outputs": [],
   "source": [
    "from collections import Counter, defaultdict\n",
    "import numpy as np\n",
    "import re"
   ]
  },
  {
   "cell_type": "code",
   "execution_count": 81,
   "metadata": {},
   "outputs": [],
   "source": [
    "tgts = open('./pat.txt', 'r', encoding='utf8').read().split('\\n\\n')\n",
    "\n",
    "counts = defaultdict(Counter)\n",
    "sents = defaultdict(lambda: defaultdict(lambda: []))"
   ]
  },
  {
   "cell_type": "code",
   "execution_count": 82,
   "metadata": {},
   "outputs": [],
   "source": [
    "for tgt in tgts:\n",
    "    try:\n",
    "        line, patterns = tgt.strip().split('\\n', maxsplit=1)\n",
    "    except:\n",
    "        continue\n",
    "    \n",
    "    patterns = patterns.split('\\n')\n",
    "    \n",
    "    for pattern in patterns:\n",
    "        head, ptn, sent = pattern.split('\\t')\n",
    "        counts[head][ptn] += 1\n",
    "        sents[head][ptn].append(sent)"
   ]
  },
  {
   "cell_type": "code",
   "execution_count": 88,
   "metadata": {},
   "outputs": [
    {
     "name": "stdout",
     "output_type": "stream",
     "text": [
      "remain-v\n",
      "V n\t(172)\ther father , however , remained aboard and was among those who drowned when the giant ship finally went down in the early hours of next day .\n",
      "V adj\t(294)\tbut even as the private sector booms - - swelling the middle class and producing billionaires by the fistful - - the quality of governance remains abysmal .\n",
      "V in n\t(90)\tthe use of the word `` overstaying '' clearly gave the impression that these students had remained in the UK illegally while the article itself made no such accusation .\n",
      "\n",
      "ability-n\n",
      "N to v\t(468)\tSeiji Uchida , 48 , who lost the ability to walk in a car accident 27 years ago , said he has long dreamed of visiting the picturesque abbey of Mont Saint - Michel , set on a rocky islet in Normandy .\n",
      "\n",
      "allow-v\n",
      "V n\t(1151)\tpolitical pressure on China from abroad to allow faster yuan appreciation is unlikely to abate in the near future .\n",
      "V n to v\t(881)\tthis means that other processing must be preempted to allow the ABS task to execute at the desired periods .\n",
      "\n",
      "essential-adj\n",
      "ADJ to v\t(32)\teducation in hygienic food handling for abattoir workers and raw meat producers is essential to keep contamination to a minimum .\n",
      "ADJ to n\t(38)\tindeed , the parakeet was in love with what is essential to man , namely , his attire ( accoutrement ) .\n",
      "\n",
      "value-n\n",
      "N to v\t(16)\tbad : it is a bad idea to abbreviate enumerations ; the user will have no idea which value to use .\n",
      "\n",
      "useful-adj\n",
      "ADJ to v\t(30)\tit 's useful to keep that in mind as the trope about soft power again gets earnestly bandied about , only this time with China as the newly ascendant power .\n",
      "ADJ for n\t(20)\tâThe camera has a built-in optical image amplifier that overcomes the tradeoff between sensitivity and speed , â he said.â It could be especially useful for microscopy .\n",
      "\n"
     ]
    }
   ],
   "source": [
    "\n",
    "HiFreWords = open('HiFreWords', 'r').read().split('\\t')\n",
    "Prons = open('prons.txt', 'r').read().split('\\n')\n",
    "\n",
    "def getHighCounts(key, ngrams):\n",
    "    new_counts = list(map(lambda pair: (pair[0], pair[1] * (len(pair[0].split(' '))**1.5)), ngrams.items()))\n",
    "\n",
    "    values = list(map(lambda x: x[1], new_counts))\n",
    "    total, avg, std = np.sum(values), np.mean(values), np.std(values)\n",
    "    \n",
    "    remains = filter(lambda pair: pair[1] > avg+std, new_counts)\n",
    "    return remains\n",
    "\n",
    "\n",
    "def tokens(str1): return re.findall('[a-z]+', str1.lower()) \n",
    "\n",
    "def score(head, sent):\n",
    "    tks = tokens(sent)\n",
    "    bad = sum([t not in HiFreWords and t in Prons for t in tks])\n",
    "    return -bad\n",
    "\n",
    "# VALUE, ALLOW, ABILITY, USEFUL, REMAIN, ESSENTIAL\n",
    "target = ['VALUE-N', 'ALLOW-V', 'ABILITY-N', 'USEFUL-ADJ', 'REMAIN-V', 'ESSENTIAL-ADJ']\n",
    "for head, ngrams in counts.items():\n",
    "    if head not in target:\n",
    "        continue\n",
    "    \n",
    "    remains = getHighCounts(head, ngrams)\n",
    "\n",
    "    print(head.lower())\n",
    "    for ptn, ctn in remains:\n",
    "        highest_sent = max([ (sent, score(head, sent)) for sent in sents[head][ptn] ], key=lambda x: x[1])\n",
    "        highest_sent = highest_sent[0]\n",
    "\n",
    "        print(\"%s\\t(%s)\\t%s\"%(ptn, str(counts[head][ptn]), highest_sent))\n",
    "    print()"
   ]
  },
  {
   "cell_type": "code",
   "execution_count": null,
   "metadata": {},
   "outputs": [],
   "source": []
  }
 ],
 "metadata": {
  "kernelspec": {
   "display_name": "Python 3",
   "language": "python",
   "name": "python3"
  },
  "language_info": {
   "codemirror_mode": {
    "name": "ipython",
    "version": 3
   },
   "file_extension": ".py",
   "mimetype": "text/x-python",
   "name": "python",
   "nbconvert_exporter": "python",
   "pygments_lexer": "ipython3",
   "version": "3.6.2"
  }
 },
 "nbformat": 4,
 "nbformat_minor": 2
}
