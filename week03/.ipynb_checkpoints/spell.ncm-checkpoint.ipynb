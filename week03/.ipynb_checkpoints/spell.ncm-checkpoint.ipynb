{
 "cells": [
  {
   "cell_type": "code",
   "execution_count": 1,
   "metadata": {},
   "outputs": [],
   "source": [
    "from collections import Counter, defaultdict\n",
    "import math, re\n",
    "from pprint import pprint\n",
    "\n",
    "count = dict()\n",
    "count_c = defaultdict(lambda: 0)\n",
    "for line in open('count_1edit.txt', 'r', encoding='utf8'):\n",
    "    wc, num = line.strip().split('\\t')\n",
    "    w, c = wc.split('|')\n",
    "    count[(w, c)] = int(num)\n",
    "    count_c[c] += int(num)\n",
    "Ncount = Counter(count.values())"
   ]
  },
  {
   "cell_type": "code",
   "execution_count": 2,
   "metadata": {},
   "outputs": [],
   "source": [
    "Nall = len(count.keys())\n",
    "N0 = 26*26*26*26+2*26*26*26+26*26 - Nall\n",
    "Nr = [ N0 if r == 0 else Ncount[r] for r in range(12) ]"
   ]
  },
  {
   "cell_type": "code",
   "execution_count": 3,
   "metadata": {},
   "outputs": [],
   "source": [
    "def smooth(count, r=10):\n",
    "    if count <= r:\n",
    "        return (count+1)*Nr[count+1] / Nr[count]\n",
    "    else:\n",
    "        return count\n",
    "\n",
    "def Pedit(w, c):\n",
    "    if (w, c) not in count and count_c[c] > 0:\n",
    "        return smooth(0) / count_c[c]\n",
    "    if count_c[c] > 0:\n",
    "        return smooth(count[(w, c)]) / count_c[c]\n",
    "    else:\n",
    "        return 0"
   ]
  },
  {
   "cell_type": "code",
   "execution_count": 4,
   "metadata": {},
   "outputs": [
    {
     "name": "stdout",
     "output_type": "stream",
     "text": [
      "0 [('', 'appearant', 0, 0.0, 1)]\n",
      "1 [('a', 'ppearant', 0, 0.0, 0.8), ('as', 'ppearant', 1, 0.0, 0.8636363636363636), ('x', 'ppearant', 1, 0.0, 4.467344391085126e-06)]\n",
      "2 [('ap', 'pearant', 0, 0.0, 0.6400000000000001), ('aj', 'pearant', 1, 0.0, 9.896886035634742e-06), ('apg', 'pearant', 1, 0.0, 0.0)]\n",
      "3 [('app', 'earant', 0, 0.0, 0.5120000000000001), ('apc', 'earant', 1, 0.0, 0.004615984405458091), ('appt', 'earant', 1, 0.0, 0.6400000000000001)]\n",
      "4 [('appe', 'arant', 0, 0.0, 0.40960000000000013), ('appek', 'arant', 1, 0.0, 0.00032936836726592424), ('appep', 'arant', 1, 0.0, 0.06357190635451507)]\n",
      "5 [('appea', 'rant', 0, 0.0, 0.32768000000000014), ('appen', 'rant', 1, 0.0, 0.003413333333333334), ('appez', 'rant', 1, 0.0, 3.6596485251769365e-06)]\n",
      "6 [('appear', 'ant', 0, 0.0, 0.2621440000000001), ('appeary', 'ant', 1, 0.0, 0.294071794871795), ('appeay', 'ant', 1, 0.0, 0.00469071574642127)]\n",
      "7 [('appare', 'nt', 2, 3.764840868244015e-05, 0.015916815434813453), ('appeara', 'nt', 0, 0.0, 0.2097152000000001), ('appeary', 'nt', 1, 0.0, 0.011257717791411048)]\n",
      "8 [('apparen', 't', 2, 3.764840868244015e-05, 0.012733452347850763), ('appearan', 't', 0, 0.0, 0.1677721600000001), ('appearah', 't', 1, 0.0, 0.0006478124567706413)]\n",
      "[('apparent', '', 2, 3.764840868244015e-05, 0.01018676187828061),\n",
      " ('appearance', '', 2, 0.00012101274219355764, 0.0011182874238227151),\n",
      " ('appearing', '', 2, 2.061698570705056e-05, 0.0009722564755838646)]\n",
      "0 [('', 'runing', 0, 0.0, 1)]\n",
      "1 [('t', 'uning', 1, 8.963906829152417e-07, 0.011992619926199263), ('r', 'uning', 0, 0.0, 0.8), ('d', 'uning', 1, 0.0, 0.028517110266159697)]\n",
      "2 [('run', 'ning', 1, 0.00012549469560813384, 0.7304347826086957), ('tur', 'ning', 2, 0.0001864492620463703, 0.010493542435424354), ('rui', 'ning', 1, 2.6891720487457255e-06, 0.6763636363636364)]\n",
      "3 [('runn', 'ing', 1, 0.00012549469560813384, 0.5843478260869566), ('turn', 'ing', 2, 0.0001864492620463703, 0.008394833948339484), ('ruin', 'ing', 1, 2.6891720487457255e-06, 0.5410909090909092)]\n",
      "4 [('runni', 'ng', 1, 0.00012549469560813384, 0.4674782608695653), ('turni', 'ng', 2, 0.0001864492620463703, 0.0067158671586715875), ('ruini', 'ng', 1, 2.6891720487457255e-06, 0.43287272727272735)]\n",
      "5 [('runnin', 'g', 1, 0.00012549469560813384, 0.37398260869565225), ('turnin', 'g', 2, 0.0001864492620463703, 0.00537269372693727), ('ruinin', 'g', 1, 2.6891720487457255e-06, 0.3462981818181819)]\n",
      "[('running', '', 1, 0.00012549469560813384, 0.2991860869565218),\n",
      " ('turning', '', 2, 0.0001864492620463703, 0.0042981549815498165),\n",
      " ('ruining', '', 1, 2.6891720487457255e-06, 0.27703854545454554)]\n"
     ]
    }
   ],
   "source": [
    "\n",
    "def words(text): return re.findall(r'\\w+', text.lower())\n",
    "WORDS = Counter(words(open('big.txt').read()))\n",
    "def Pw(word, N=sum(WORDS.values())): \n",
    "    \"Probability of `word`.\"\n",
    "    return WORDS[word] / N\n",
    "\n",
    "def correction(word): \n",
    "    \"Most probable spelling correction for word.\"\n",
    "    states = [ ('', word, 0, Pw(word), 1) ]\n",
    "    for i in range(len(word)):\n",
    "        print(i, states[:3])\n",
    "        STATES = [ s for state in states for s in next_states(state) ]\n",
    "        states = sorted(STATES, key=lambda x: x[2])\n",
    "\n",
    "        unique, new_states = set(), []\n",
    "        for state in states:\n",
    "            if state[0] + state[1] in unique: continue\n",
    "\n",
    "            unique.add(state[0] + state[1])\n",
    "            new_states.append(state)\n",
    "        states = new_states\n",
    "        states = sorted(states, key=lambda x: P(x[3], x[4]), reverse=True) [:500]# [:MAXBEAM]\n",
    "    return states[:3]\n",
    "\n",
    "def next_states(state):\n",
    "    letters    = 'abcdefghijklmnopqrstuvwxyz'\n",
    "    L, R, edit, prob, ped = state\n",
    "    R0, R1 = R[0], R[1:]\n",
    "    if edit == 2: return [( L + R0, R1, edit, prob, ped*0.8 )]\n",
    "    noedit    = [( L + R0, R1, edit, prob, ped*0.8 )]\n",
    "    delete    = [( L, R1, edit+1, Pw(L + R1), ped * Pedit(L[-1]+R0, L[-1]))]  if len(L) > 0 else []\n",
    "    insert    = [( L + R0 + c, R1, edit+1, Pw(L + R0 + c + R1), ped * Pedit(R0, R0 + c) ) for c in letters]\n",
    "    replace   = [( L + c, R1, edit+1, Pw(L + c + R1), ped * Pedit(R0, c) ) for c in letters]\n",
    "    transpose = [( L[:-1] + R0, L[-1] + R1, edit+1, Pw(L[:-1] + R0 + L[-1] + R1), ped * Pedit(L[-1]+R0, R0+L[-1]) )] if len(L) > 1 else []\n",
    "    return set(noedit + delete + replace + insert + transpose)\n",
    "\n",
    "'''Combining channel probability with word probability to score states'''\n",
    "def P(pw, pedit):\n",
    "    return pw*pedit\n",
    "\n",
    "# def spellAlign(word, correct):\n",
    "#     L, R, edits = '', word, ''\n",
    "#     states = [ [L, R, ''] ]\n",
    "#     for i in range(len(word)+______ ):\n",
    "#         states = [ state for states in map(next_states, states) for state in states ]\n",
    "#         states = [ state for state in states if state[0] ___________________   )\n",
    "#     states = [ state for state in states if state[0] ___________________ )\n",
    "#     states.sort( ______________________________________________ )\n",
    "#     return _____________________\n",
    "\n",
    "pprint(correction('appearant'))\n",
    "pprint(correction('runing'))\n",
    "# pprint(correction('whou'))"
   ]
  },
  {
   "cell_type": "code",
   "execution_count": 5,
   "metadata": {},
   "outputs": [
    {
     "name": "stdout",
     "output_type": "stream",
     "text": [
      "0 [('', 'thenks', 0, 0.0, 1)]\n",
      "1 [('t', 'henks', 0, 0.0, 0.8), ('to', 'henks', 1, 0.0, 0.9264705882352942), ('ti', 'henks', 1, 0.0, 0.5764705882352941)]\n",
      "2 [('j', 'enks', 2, 8.963906829152417e-07, 3.840111769156979e-07), ('th', 'enks', 0, 0.0, 0.6400000000000001), ('ta', 'enks', 1, 0.0, 0.0003507701692847339)]\n",
      "3 [('tha', 'nks', 1, 3.495923663369443e-05, 0.18048192771084343), ('thi', 'nks', 1, 2.2409767072881046e-05, 0.21833333333333335), ('tru', 'nks', 2, 4.481953414576209e-05, 0.000978807078872624)]\n",
      "4 [('than', 'ks', 1, 3.495923663369443e-05, 0.14438554216867475), ('thin', 'ks', 1, 2.2409767072881046e-05, 0.1746666666666667), ('trun', 'ks', 2, 4.481953414576209e-05, 0.0007830456630980993)]\n",
      "5 [('thank', 's', 1, 3.495923663369443e-05, 0.1155084337349398), ('think', 's', 1, 2.2409767072881046e-05, 0.13973333333333335), ('thing', 's', 2, 0.0002877414092157926, 0.007231422505307857)]\n"
     ]
    },
    {
     "data": {
      "text/plain": [
       "[('thanks', '', 1, 3.495923663369443e-05, 0.09240674698795184),\n",
       " ('think', '', 2, 0.0004992896103837897, 0.005557575757575758),\n",
       " ('thinks', '', 1, 2.2409767072881046e-05, 0.11178666666666669)]"
      ]
     },
     "execution_count": 5,
     "metadata": {},
     "output_type": "execute_result"
    }
   ],
   "source": [
    "correction('thenks')"
   ]
  },
  {
   "cell_type": "code",
   "execution_count": 6,
   "metadata": {},
   "outputs": [
    {
     "name": "stdout",
     "output_type": "stream",
     "text": [
      "0 [('', 'speling', 0, 0.0, 1)]\n",
      "1 [('s', 'peling', 0, 0.0, 0.8), ('k', 'peling', 1, 0.0, 3.6550999563423756e-06), ('g', 'peling', 1, 0.0, 0.011580775911986103)]\n",
      "2 [('fe', 'eling', 2, 0.0003244934272153175, 6.3832398460289395e-09), ('du', 'eling', 2, 8.963906829152417e-07, 2.445998449871704e-08), ('pe', 'eling', 2, 1.7927813658304835e-06, 1.947243888340219e-09)]\n",
      "3 [('spel', 'ling', 1, 3.585562731660967e-06, 0.36571428571428577), ('spoi', 'ling', 2, 6.2747347804066925e-06, 0.18487903225806449), ('smi', 'ling', 2, 0.00014431889994935394, 0.003929150453955902)]\n",
      "4 [('speak', 'ing', 2, 0.00016583227633931973, 0.012350901676879132), ('spell', 'ing', 1, 3.585562731660967e-06, 0.29257142857142865), ('spoil', 'ing', 2, 6.2747347804066925e-06, 0.1479032258064516)]\n",
      "5 [('speaki', 'ng', 2, 0.00016583227633931973, 0.009880721341503307), ('spelli', 'ng', 1, 3.585562731660967e-06, 0.23405714285714294), ('spoili', 'ng', 2, 6.2747347804066925e-06, 0.11832258064516128)]\n",
      "6 [('speakin', 'g', 2, 0.00016583227633931973, 0.007904577073202647), ('spellin', 'g', 1, 3.585562731660967e-06, 0.18724571428571435), ('spoilin', 'g', 2, 6.2747347804066925e-06, 0.09465806451612903)]\n"
     ]
    },
    {
     "data": {
      "text/plain": [
       "[('speaking', '', 2, 0.00016583227633931973, 0.0063236616585621176),\n",
       " ('spelling', '', 1, 3.585562731660967e-06, 0.14979657142857147),\n",
       " ('spoiling', '', 2, 6.2747347804066925e-06, 0.07572645161290323)]"
      ]
     },
     "execution_count": 6,
     "metadata": {},
     "output_type": "execute_result"
    }
   ],
   "source": [
    "correction('speling')"
   ]
  },
  {
   "cell_type": "code",
   "execution_count": null,
   "metadata": {},
   "outputs": [],
   "source": []
  },
  {
   "cell_type": "code",
   "execution_count": null,
   "metadata": {},
   "outputs": [],
   "source": []
  }
 ],
 "metadata": {
  "kernelspec": {
   "display_name": "Python 3",
   "language": "python",
   "name": "python3"
  },
  "language_info": {
   "codemirror_mode": {
    "name": "ipython",
    "version": 3
   },
   "file_extension": ".py",
   "mimetype": "text/x-python",
   "name": "python",
   "nbconvert_exporter": "python",
   "pygments_lexer": "ipython3",
   "version": "3.6.2"
  }
 },
 "nbformat": 4,
 "nbformat_minor": 2
}
